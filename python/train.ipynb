{
 "cells": [
  {
   "cell_type": "code",
   "execution_count": 1,
   "metadata": {},
   "outputs": [
    {
     "name": "stdout",
     "output_type": "stream",
     "text": [
      "Total number of parameters: 865\n",
      "Features shape: (413235, 9)\n",
      "Labels shape: (413235,)\n",
      "8466 positive examples, 404769 negative examples\n",
      "data loaded with 15.8 MiB\n",
      "Epoch 1/20, 1.8s, Loss: 0.1633\n",
      "Epoch 2/20, 1.7s, Loss: 0.0767\n",
      "Epoch 3/20, 1.7s, Loss: 0.0725\n",
      "Epoch 4/20, 1.7s, Loss: 0.0720\n",
      "Epoch 5/20, 1.7s, Loss: 0.0717\n",
      "Validation Loss: 0.0712\n",
      "Epoch 6/20, 1.7s, Loss: 0.0714\n",
      "Epoch 7/20, 1.7s, Loss: 0.0712\n",
      "Epoch 8/20, 1.7s, Loss: 0.0710\n",
      "Epoch 9/20, 1.7s, Loss: 0.0709\n",
      "Epoch 10/20, 1.7s, Loss: 0.0707\n",
      "Validation Loss: 0.0702\n",
      "Epoch 11/20, 1.7s, Loss: 0.0707\n",
      "Epoch 12/20, 1.7s, Loss: 0.0706\n",
      "Epoch 13/20, 1.7s, Loss: 0.0706\n",
      "Epoch 14/20, 1.7s, Loss: 0.0704\n",
      "Epoch 15/20, 1.7s, Loss: 0.0704\n",
      "Validation Loss: 0.0699\n",
      "Epoch 16/20, 1.7s, Loss: 0.0704\n",
      "Epoch 17/20, 1.7s, Loss: 0.0704\n",
      "Epoch 18/20, 1.7s, Loss: 0.0703\n",
      "Epoch 19/20, 1.7s, Loss: 0.0703\n",
      "Epoch 20/20, 1.7s, Loss: 0.0703\n",
      "Validation Loss: 0.0698\n"
     ]
    }
   ],
   "source": [
    "import time\n",
    "\n",
    "import loader\n",
    "import model\n",
    "import training\n",
    "\n",
    "model, criterion, optimizer = model.create()\n",
    "train_data, val_data = loader.dataloaders()\n",
    "\n",
    "# Training loop\n",
    "num_epochs = 20\n",
    "\n",
    "for epoch in range(1, num_epochs + 1):\n",
    "    start_time = time.time()\n",
    "    train_loss = training.one_pass(train_data, model, criterion, optimizer=optimizer)\n",
    "    elapsed = time.time() - start_time\n",
    "    print(f\"Epoch {epoch}/{num_epochs}, {elapsed:.1f}s, Loss: {train_loss:.4f}\")\n",
    "    if epoch % 5 == 0:\n",
    "        val_loss = training.one_pass(val_data, model, criterion, optimizer=None)\n",
    "        print(f\"Validation Loss: {val_loss:.4f}\")\n"
   ]
  },
  {
   "cell_type": "code",
   "execution_count": 2,
   "metadata": {},
   "outputs": [
    {
     "name": "stdout",
     "output_type": "stream",
     "text": [
      "Model saved to ../files/models/model-2024-09-18-15:02:48.onnx\n"
     ]
    }
   ],
   "source": [
    "model.save()"
   ]
  },
  {
   "cell_type": "code",
   "execution_count": null,
   "metadata": {},
   "outputs": [],
   "source": []
  }
 ],
 "metadata": {
  "kernelspec": {
   "display_name": ".venv",
   "language": "python",
   "name": "python3"
  },
  "language_info": {
   "codemirror_mode": {
    "name": "ipython",
    "version": 3
   },
   "file_extension": ".py",
   "mimetype": "text/x-python",
   "name": "python",
   "nbconvert_exporter": "python",
   "pygments_lexer": "ipython3",
   "version": "3.11.9"
  }
 },
 "nbformat": 4,
 "nbformat_minor": 2
}
