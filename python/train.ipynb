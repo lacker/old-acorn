{
 "cells": [
  {
   "cell_type": "code",
   "execution_count": 1,
   "metadata": {},
   "outputs": [
    {
     "name": "stdout",
     "output_type": "stream",
     "text": [
      "Total number of parameters: 865\n",
      "Features shape: (391294, 9)\n",
      "Labels shape: (391294,)\n",
      "5289 positive examples, 386005 negative examples\n",
      "data loaded with 14.9 MiB\n",
      "Epoch 1/20, 6.8s, Loss: 0.0491\n",
      "Epoch 2/20, 6.4s, Loss: 0.0437\n",
      "Epoch 3/20, 6.4s, Loss: 0.0436\n",
      "Epoch 4/20, 6.4s, Loss: 0.0435\n",
      "Epoch 5/20, 6.4s, Loss: 0.0434\n",
      "Validation Loss: 0.0405\n",
      "Epoch 6/20, 6.5s, Loss: 0.0434\n",
      "Epoch 7/20, 6.5s, Loss: 0.0433\n",
      "Epoch 8/20, 6.4s, Loss: 0.0434\n",
      "Epoch 9/20, 6.6s, Loss: 0.0433\n",
      "Epoch 10/20, 6.7s, Loss: 0.0433\n",
      "Validation Loss: 0.0405\n",
      "Epoch 11/20, 6.6s, Loss: 0.0432\n",
      "Epoch 12/20, 6.9s, Loss: 0.0433\n",
      "Epoch 13/20, 6.7s, Loss: 0.0432\n"
     ]
    }
   ],
   "source": [
    "import time\n",
    "\n",
    "import loader\n",
    "import model\n",
    "import training\n",
    "\n",
    "net, criterion, optimizer = model.create()\n",
    "train_data, val_data = loader.dataloaders()\n",
    "\n",
    "# Training loop\n",
    "num_epochs = 20\n",
    "\n",
    "for epoch in range(1, num_epochs + 1):\n",
    "    start_time = time.time()\n",
    "    train_loss = training.one_pass(train_data, net, criterion, optimizer=optimizer)\n",
    "    elapsed = time.time() - start_time\n",
    "    print(f\"Epoch {epoch}/{num_epochs}, {elapsed:.1f}s, Loss: {train_loss:.4f}\")\n",
    "    if epoch % 5 == 0:\n",
    "        val_loss = training.one_pass(val_data, net, criterion, optimizer=None)\n",
    "        print(f\"Validation Loss: {val_loss:.4f}\")\n"
   ]
  }
 ],
 "metadata": {
  "kernelspec": {
   "display_name": ".venv",
   "language": "python",
   "name": "python3"
  },
  "language_info": {
   "codemirror_mode": {
    "name": "ipython",
    "version": 3
   },
   "file_extension": ".py",
   "mimetype": "text/x-python",
   "name": "python",
   "nbconvert_exporter": "python",
   "pygments_lexer": "ipython3",
   "version": "3.11.9"
  }
 },
 "nbformat": 4,
 "nbformat_minor": 2
}
