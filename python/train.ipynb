{
 "cells": [
  {
   "cell_type": "code",
   "execution_count": 1,
   "metadata": {},
   "outputs": [],
   "source": [
    "import torch.nn as nn\n",
    "import torch.optim as optim\n",
    "\n",
    "import config\n",
    "import loader"
   ]
  },
  {
   "cell_type": "code",
   "execution_count": 2,
   "metadata": {},
   "outputs": [
    {
     "name": "stdout",
     "output_type": "stream",
     "text": [
      "Total number of parameters: 865\n"
     ]
    }
   ],
   "source": [
    "# Define the model\n",
    "class SimpleNN(nn.Module):\n",
    "    def __init__(self):\n",
    "        super(SimpleNN, self).__init__()\n",
    "        self.fc1 = nn.Linear(9, 32)  # 9 input features, 32 hidden units\n",
    "        self.fc2 = nn.Linear(32, 16)  # 32 hidden units, 16 hidden units in second layer\n",
    "        self.fc3 = nn.Linear(16, 1)  # 16 hidden units, 1 output unit\n",
    "        self.relu = nn.ReLU()  # Activation function\n",
    "        self.sigmoid = nn.Sigmoid()  # Sigmoid for binary classification\n",
    "\n",
    "    def forward(self, x):\n",
    "        x = self.relu(self.fc1(x))\n",
    "        x = self.relu(self.fc2(x))\n",
    "        x = self.sigmoid(self.fc3(x))\n",
    "        return x\n",
    "\n",
    "# Create the model\n",
    "model = SimpleNN().to(config.device)\n",
    "total_params = sum(p.numel() for p in model.parameters())\n",
    "print(f'Total number of parameters: {total_params}')\n",
    "\n",
    "# Define loss function and optimizer\n",
    "criterion = nn.BCELoss()  # Binary Cross Entropy loss for binary classification\n",
    "optimizer = optim.Adam(model.parameters(), lr=0.001)"
   ]
  },
  {
   "cell_type": "code",
   "execution_count": 3,
   "metadata": {},
   "outputs": [
    {
     "name": "stdout",
     "output_type": "stream",
     "text": [
      "Features shape: (391294, 9)\n",
      "Labels shape: (391294,)\n",
      "5289 positive examples, 386005 negative examples\n",
      "data loaded with 14.9 MiB\n",
      "Epoch [1/20], Loss: 0.0152\n",
      "Epoch [2/20], Loss: 0.0050\n",
      "Epoch [3/20], Loss: 0.0056\n",
      "Epoch [4/20], Loss: 0.0218\n",
      "Epoch [5/20], Loss: 0.0061\n",
      "Epoch [6/20], Loss: 0.0070\n",
      "Epoch [7/20], Loss: 0.0082\n",
      "Epoch [8/20], Loss: 0.0040\n",
      "Epoch [9/20], Loss: 0.0232\n",
      "Epoch [10/20], Loss: 0.0588\n",
      "Epoch [11/20], Loss: 0.0219\n",
      "Epoch [12/20], Loss: 0.0044\n",
      "Epoch [13/20], Loss: 0.0062\n",
      "Epoch [14/20], Loss: 0.3253\n",
      "Epoch [15/20], Loss: 0.0459\n",
      "Epoch [16/20], Loss: 0.0468\n",
      "Epoch [17/20], Loss: 0.1707\n",
      "Epoch [18/20], Loss: 0.0078\n",
      "Epoch [19/20], Loss: 0.0049\n",
      "Epoch [20/20], Loss: 0.0053\n"
     ]
    }
   ],
   "source": [
    "dataloader = loader.dataloader()\n",
    "\n",
    "# Training loop\n",
    "num_epochs = 20\n",
    "\n",
    "for epoch in range(num_epochs):\n",
    "    losses = []\n",
    "    for inputs, labels in dataloader:\n",
    "        # Forward pass\n",
    "        outputs = model(inputs)\n",
    "        loss = criterion(outputs, labels.unsqueeze(1))\n",
    "\n",
    "        # Backward pass and optimization\n",
    "        optimizer.zero_grad()\n",
    "        loss.backward()\n",
    "        optimizer.step()\n",
    "\n",
    "        # Track the losses\n",
    "        losses.append(loss.item())\n",
    "\n",
    "    # Print loss every epoch\n",
    "    average_loss = sum(losses) / len(losses)\n",
    "    print(f'Epoch [{epoch+1}/{num_epochs}], Loss: {average_loss:.4f}')"
   ]
  },
  {
   "cell_type": "code",
   "execution_count": null,
   "metadata": {},
   "outputs": [],
   "source": []
  }
 ],
 "metadata": {
  "kernelspec": {
   "display_name": ".venv",
   "language": "python",
   "name": "python3"
  },
  "language_info": {
   "codemirror_mode": {
    "name": "ipython",
    "version": 3
   },
   "file_extension": ".py",
   "mimetype": "text/x-python",
   "name": "python",
   "nbconvert_exporter": "python",
   "pygments_lexer": "ipython3",
   "version": "3.11.9"
  }
 },
 "nbformat": 4,
 "nbformat_minor": 2
}
