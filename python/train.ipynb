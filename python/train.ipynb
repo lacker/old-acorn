{
 "cells": [
  {
   "cell_type": "code",
   "execution_count": 1,
   "metadata": {},
   "outputs": [
    {
     "name": "stdout",
     "output_type": "stream",
     "text": [
      "Total number of parameters: 865\n",
      "Features shape: (391294, 9)\n",
      "Labels shape: (391294,)\n",
      "5289 positive examples, 386005 negative examples\n",
      "data loaded with 14.9 MiB\n",
      "Epoch 1/20, 1.7s, Loss: 0.2745\n",
      "Epoch 2/20, 1.6s, Loss: 0.0546\n",
      "Epoch 3/20, 1.6s, Loss: 0.0442\n",
      "Epoch 4/20, 1.7s, Loss: 0.0432\n",
      "Epoch 5/20, 1.5s, Loss: 0.0429\n",
      "Validation Loss: 0.0452\n",
      "Epoch 6/20, 1.6s, Loss: 0.0428\n",
      "Epoch 7/20, 1.6s, Loss: 0.0427\n",
      "Epoch 8/20, 1.5s, Loss: 0.0427\n",
      "Epoch 9/20, 1.6s, Loss: 0.0427\n",
      "Epoch 10/20, 1.6s, Loss: 0.0427\n",
      "Validation Loss: 0.0450\n",
      "Epoch 11/20, 1.5s, Loss: 0.0427\n",
      "Epoch 12/20, 1.5s, Loss: 0.0427\n",
      "Epoch 13/20, 1.6s, Loss: 0.0427\n",
      "Epoch 14/20, 1.5s, Loss: 0.0426\n",
      "Epoch 15/20, 1.5s, Loss: 0.0427\n",
      "Validation Loss: 0.0448\n",
      "Epoch 16/20, 1.5s, Loss: 0.0427\n",
      "Epoch 17/20, 1.6s, Loss: 0.0427\n",
      "Epoch 18/20, 1.7s, Loss: 0.0427\n",
      "Epoch 19/20, 1.6s, Loss: 0.0428\n",
      "Epoch 20/20, 1.6s, Loss: 0.0427\n",
      "Validation Loss: 0.0456\n"
     ]
    }
   ],
   "source": [
    "import time\n",
    "\n",
    "import loader\n",
    "import model\n",
    "import training\n",
    "\n",
    "model, criterion, optimizer = model.create()\n",
    "train_data, val_data = loader.dataloaders()\n",
    "\n",
    "# Training loop\n",
    "num_epochs = 20\n",
    "\n",
    "for epoch in range(1, num_epochs + 1):\n",
    "    start_time = time.time()\n",
    "    train_loss = training.one_pass(train_data, model, criterion, optimizer=optimizer)\n",
    "    elapsed = time.time() - start_time\n",
    "    print(f\"Epoch {epoch}/{num_epochs}, {elapsed:.1f}s, Loss: {train_loss:.4f}\")\n",
    "    if epoch % 5 == 0:\n",
    "        val_loss = training.one_pass(val_data, model, criterion, optimizer=None)\n",
    "        print(f\"Validation Loss: {val_loss:.4f}\")\n"
   ]
  },
  {
   "cell_type": "code",
   "execution_count": 2,
   "metadata": {},
   "outputs": [
    {
     "name": "stdout",
     "output_type": "stream",
     "text": [
      "Model saved to ../files/model-2024-09-13-09:55:03.onnx\n"
     ]
    }
   ],
   "source": [
    "model.save()"
   ]
  },
  {
   "cell_type": "code",
   "execution_count": null,
   "metadata": {},
   "outputs": [],
   "source": []
  }
 ],
 "metadata": {
  "kernelspec": {
   "display_name": ".venv",
   "language": "python",
   "name": "python3"
  },
  "language_info": {
   "codemirror_mode": {
    "name": "ipython",
    "version": 3
   },
   "file_extension": ".py",
   "mimetype": "text/x-python",
   "name": "python",
   "nbconvert_exporter": "python",
   "pygments_lexer": "ipython3",
   "version": "3.11.9"
  }
 },
 "nbformat": 4,
 "nbformat_minor": 2
}
