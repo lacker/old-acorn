{
 "cells": [
  {
   "cell_type": "code",
   "execution_count": null,
   "metadata": {},
   "outputs": [],
   "source": [
    "import numpy as np\n",
    "\n",
    "# Load the .npz file\n",
    "data = np.load(\"../data/dataset-2024-09-11-15:11:57.npz\")\n",
    "\n",
    "# Access the \"features\" and \"labels\"\n",
    "features = data['features']\n",
    "labels = data['labels']\n",
    "\n",
    "# Display their shapes to verify\n",
    "print(\"Features shape:\", features.shape)\n",
    "print(\"Labels shape:\", labels.shape)"
   ]
  }
 ],
 "metadata": {
  "language_info": {
   "name": "python"
  }
 },
 "nbformat": 4,
 "nbformat_minor": 2
}
